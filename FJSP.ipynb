{
 "cells": [
  {
   "cell_type": "code",
   "execution_count": 17,
   "metadata": {},
   "outputs": [
    {
     "name": "stdout",
     "output_type": "stream",
     "text": [
      "1 5 2 18.0\n",
      "1 5 3 0.0\n",
      "1 4 4 0.0\n",
      "1 4 2 148.0\n",
      "1 2 2 188.0\n",
      "1 2 3 0.0\n",
      "1 3 5 193.0\n",
      "1 3 4 0.0\n",
      "2 1 3 68.0\n",
      "2 1 5 0.0\n",
      "2 4 4 155.0\n",
      "2 4 2 0.0\n",
      "2 2 2 0.0\n",
      "2 2 3 176.0\n",
      "3 3 5 18.0\n",
      "3 3 4 0.0\n",
      "3 5 2 74.0\n",
      "3 5 3 0.0\n",
      "3 1 3 0.0\n",
      "3 1 5 148.0\n",
      "3 4 4 186.0\n",
      "3 4 2 0.0\n",
      "4 3 5 58.0\n",
      "4 3 4 0.0\n",
      "4 2 2 0.0\n",
      "4 2 3 81.0\n",
      "4 5 2 0.0\n",
      "4 5 3 161.0\n",
      "4 4 4 172.0\n",
      "4 4 2 0.0\n",
      "5 4 4 64.0\n",
      "5 4 2 0.0\n",
      "5 6 2 0.0\n",
      "5 6 1 152.0\n",
      "min cost: 193.0\n",
      "the elapsed time:69.3766884803772\n"
     ]
    }
   ],
   "source": [
    "# -*- coding: utf-8 -*-\n",
    "\"\"\"\n",
    "Created on Sat Nov 24 21:26:07 2018\n",
    "\n",
    "@author: Kevin\n",
    "\"\"\"\n",
    "\n",
    "import pandas as pd\n",
    "import numpy as np\n",
    "import time\n",
    "import pulp  \n",
    "\n",
    "###讀檔###\n",
    "Operation_sequence=pd.read_excel(\"FJSPOperation_sequence.xlsx\")\n",
    "Processing_time=pd.read_excel(\"FJSPProcessing_time.xlsx\")\n",
    "\n",
    "ops = Operation_sequence.values\n",
    "pt = Processing_time.values\n",
    "\n",
    "\n",
    "    \n",
    "\n",
    "###定義問題###\n",
    "model = pulp.LpProblem(\"MIN_makespan\", pulp.LpMinimize)\n",
    "\n",
    "###決策變數###\n",
    "Cmax = pulp.LpVariable('Cmax',lowBound = 0, cat='Continuous')\n",
    "\n",
    "Ci = pulp.LpVariable.dicts(\"start_time\",\n",
    "                           ((i) for i in range(1,6)),\n",
    "                           lowBound=0,\n",
    "                           cat='Continuous')\n",
    "#i=job,j=operation,k=machine\n",
    "st = pulp.LpVariable.dicts(\"start_time\",\n",
    "                           ((i, j, k) for i in range(1,6) for j in [ops[i-1][o] for o in range(1,5) if ops[i-1][o]!=0] for k in list(Processing_time.loc[(Processing_time['Operation']==j),'machine'])),\n",
    "                           lowBound=0,\n",
    "                           cat='Continuous')\n",
    "\n",
    "ct = pulp.LpVariable.dicts(\"completed_time\",\n",
    "                           ((i, j, k) for i in range(1,6) for j in [ops[i-1][o] for o in range(1,5) if ops[i-1][o]!=0] for k in list(Processing_time.loc[(Processing_time['Operation']==j),'machine'])),\n",
    "                           lowBound=0,\n",
    "                           cat='Continuous')\n",
    "\n",
    "x = pulp.LpVariable.dicts(\"X_binary_var\",\n",
    "                          ((i, j, k) for i in range(1,6) for j in [ops[i-1][o] for o in range(1,5) if ops[i-1][o]!=0] for k in list(Processing_time.loc[(Processing_time['Operation']==j),'machine'])),\n",
    "                          lowBound=0,\n",
    "                          cat='Binary')\n",
    "\n",
    "y = pulp.LpVariable.dicts(\"Y_binary_var\",\n",
    "                          ((i, j, l, m,k) for i in range(1,6) for j in [ops[i-1][o] for o in range(1,5) if ops[i-1][o]!=0]  for l in range(1,6) for m in [ops[l-1][a] for a in range(1,5) if ops[l-1][a]!=0]  for k in list(set(list(Processing_time.loc[(Processing_time['Operation']==j),'machine']))&set(list(Processing_time.loc[(Processing_time['Operation']==m),'machine']))) if i < l ),\n",
    "                          lowBound=0,\n",
    "                          cat='Binary')\n",
    "#T = pulp.LpVariable.dicts(\"completed_time\",\n",
    "#                          ((i, j, k) for i in range(1,6) for j in range(1,7) for k in range(1,6)),\n",
    "#                          lowBound=0,\n",
    "#                          cat='Continuous')\n",
    "\n",
    "\n",
    "\n",
    "###目標式###\n",
    "\n",
    "model += Cmax\n",
    "\n",
    "###限制式###\n",
    "for i in range(1,6):\n",
    "    for j in [ops[i-1][o] for o in range(1,5) if ops[i-1][o]!=0]:\n",
    "        ma_list=list(Processing_time.loc[(Processing_time['Operation']==j),'machine'])\n",
    "        model += pulp.lpSum(x[i,j,ma] for ma in ma_list)==1\n",
    "  \n",
    "for i in range(1,6):\n",
    "    for j in [ops[i-1][o] for o in range(1,5) if ops[i-1][o]!=0]:\n",
    "        ma_list=list(Processing_time.loc[(Processing_time['Operation']==j),'machine'])\n",
    "        for k in ma_list:\n",
    "            ptime=int(Processing_time.loc[(Processing_time['Operation']==j)&(Processing_time['machine']==k),['J%d'%i]].iloc[0])\n",
    "            I = i\n",
    "            J = j\n",
    "            K = k\n",
    "            model += st[I,J,K] + ct[I,J,K] <=x[I,J,K]*1000\n",
    "            model += ct[I,J,K] >= st[I,J,K] +ptime-(1-x[I,J,K])*1000\n",
    "\n",
    "\n",
    "for i in range(1,6):\n",
    "    for l in range(1,6):\n",
    "        if i<l:\n",
    "            for o1 in [ops[i-1][o] for o in range(1,5) if ops[i-1][o]!=0]:\n",
    "                ma1_list=list(Processing_time.loc[(Processing_time['Operation']==o1)&(Processing_time.loc[:]['J%d'%i]!=0),'machine'])\n",
    "                for o2 in [ops[l-1][o] for o in range(1,5) if ops[l-1][o]!=0]:\n",
    "                    ma2_list=list(Processing_time.loc[(Processing_time['Operation']==o2)&(Processing_time.loc[:]['J%d'%l]!=0),'machine'])\n",
    "                    mach_set=list(set(ma1_list)&set(ma2_list))\n",
    "                    if len(mach_set)>0:\n",
    "                        for k in mach_set:\n",
    "                            model += st[i,o1,k]>=ct[l,o2,k]-y[i,o1,l,o2,k]*1000\n",
    "                            model += st[l,o2,k]>=ct[i,o1,k]-(1-y[i,o1,l,o2,k])*1000\n",
    "\n",
    "for i in range(1,6):\n",
    "    op_num=[ops[i-1][o] for o in range(1,5) if ops[i-1][o]!=0]\n",
    "    for j in range(1,len(op_num)):\n",
    "        preop_num=op_num[j-1]\n",
    "        curop_num=op_num[j]\n",
    "        prema_list=list(Processing_time.loc[(Processing_time['Operation']==preop_num)&(Processing_time.loc[:]['J%d'%i]!=0),'machine'])\n",
    "        curma_list=list(Processing_time.loc[(Processing_time['Operation']==curop_num)&(Processing_time.loc[:]['J%d'%i]!=0),'machine'])\n",
    "        model += pulp.lpSum(st[i,curop_num,ma1] for ma1 in curma_list) >= pulp.lpSum(ct[i,preop_num,ma2] for ma2 in prema_list)\n",
    "\n",
    "\n",
    "for i in range(1,6):\n",
    "    op_list=[ops[i-1][o] for o in range(1,5) if ops[i-1][o]!=0]\n",
    "    last_op=op_list[-1]\n",
    "    model +=Ci[i]>=pulp.lpSum(ct[i,last_op,k] for k in list(Processing_time.loc[(Processing_time['Operation']==last_op),'machine']))\n",
    "    model += Cmax >= Ci[i]\n",
    "\n",
    "\n",
    "start_time = time.time()\n",
    "\n",
    "model.solve()\n",
    "\n",
    "pulp.LpStatus[model.status]     \n",
    "\n",
    "for var in ct:\n",
    "    var_value = ct[var].varValue\n",
    "    print( var[0],var[1],var[2] ,var_value)\n",
    "\n",
    "total_cost = pulp.value(model.objective)\n",
    "print ('min cost:',total_cost)\n",
    "print('the elapsed time:%s'% (time.time() - start_time))\n",
    "\n",
    "\n",
    "\n"
   ]
  },
  {
   "cell_type": "code",
   "execution_count": 4,
   "metadata": {},
   "outputs": [
    {
     "data": {
      "text/plain": [
       "18.0"
      ]
     },
     "execution_count": 4,
     "metadata": {},
     "output_type": "execute_result"
    }
   ],
   "source": [
    "ct[1,5,2].varValue\n",
    "# for i in st:\n",
    "#     print(st[i].varValue)\n",
    "#     print(st[1,5,2].varValue)\n",
    "#     print( i[0],i[1],i[2])"
   ]
  },
  {
   "cell_type": "code",
   "execution_count": 5,
   "metadata": {
    "scrolled": true
   },
   "outputs": [
    {
     "name": "stdout",
     "output_type": "stream",
     "text": [
      "1 5 2 ---- 1.0\n",
      "1 5 3 ---- 0.0\n",
      "1 4 4 ---- 0.0\n",
      "1 4 2 ---- 1.0\n",
      "1 2 2 ---- 1.0\n",
      "1 2 3 ---- 0.0\n",
      "1 3 5 ---- 1.0\n",
      "1 3 4 ---- 0.0\n",
      "2 1 3 ---- 1.0\n",
      "2 1 5 ---- 0.0\n",
      "2 4 4 ---- 1.0\n",
      "2 4 2 ---- 0.0\n",
      "2 2 2 ---- 0.0\n",
      "2 2 3 ---- 1.0\n",
      "3 3 5 ---- 1.0\n",
      "3 3 4 ---- 0.0\n",
      "3 5 2 ---- 1.0\n",
      "3 5 3 ---- 0.0\n",
      "3 1 3 ---- 0.0\n",
      "3 1 5 ---- 1.0\n",
      "3 4 4 ---- 1.0\n",
      "3 4 2 ---- 0.0\n",
      "4 3 5 ---- 1.0\n",
      "4 3 4 ---- 0.0\n",
      "4 2 2 ---- 0.0\n",
      "4 2 3 ---- 1.0\n",
      "4 5 2 ---- 0.0\n",
      "4 5 3 ---- 1.0\n",
      "4 4 4 ---- 1.0\n",
      "4 4 2 ---- 0.0\n",
      "5 4 4 ---- 1.0\n",
      "5 4 2 ---- 0.0\n",
      "5 6 2 ---- 0.0\n",
      "5 6 1 ---- 1.0\n"
     ]
    }
   ],
   "source": [
    "for i in x:\n",
    "    print(i[0],i[1],i[2],'----',x[i].varValue)\n"
   ]
  },
  {
   "cell_type": "code",
   "execution_count": 18,
   "metadata": {},
   "outputs": [],
   "source": [
    "import plotly\n",
    "plotly.tools.set_credentials_file(username='swlkevin', api_key='3lvc4tLz4WFTuPUknM39')"
   ]
  },
  {
   "cell_type": "code",
   "execution_count": 15,
   "metadata": {
    "scrolled": true
   },
   "outputs": [
    {
     "name": "stdout",
     "output_type": "stream",
     "text": [
      "High five! You successfully sent some data to your account on plotly. View your plot in your browser at https://plot.ly/~swlkevin/0 or inside your plot.ly account where it is named 'flexible_job_shop_scheduling'\n"
     ]
    },
    {
     "data": {
      "text/html": [
       "<iframe id=\"igraph\" scrolling=\"no\" style=\"border:none;\" seamless=\"seamless\" src=\"https://plot.ly/~swlkevin/0.embed\" height=\"600px\" width=\"900px\"></iframe>"
      ],
      "text/plain": [
       "<plotly.tools.PlotlyDisplay object>"
      ]
     },
     "execution_count": 15,
     "metadata": {},
     "output_type": "execute_result"
    }
   ],
   "source": [
    "'''--------plot gantt chart-------'''\n",
    "import pandas as pd\n",
    "import plotly.plotly as py\n",
    "import plotly.figure_factory as ff\n",
    "import datetime\n",
    "from operator import itemgetter\n",
    "\n",
    "\n",
    "m_keys=[j+1 for j in range(6)]\n",
    "j_keys=[j for j in range(5)]\n",
    "index_record=[]\n",
    "j_record={}\n",
    "\n",
    "for var in x:\n",
    "    if x[var].varValue==1:\n",
    "        start_time=str(datetime.timedelta(seconds=st[var[0],var[1],var[2]].varValue)) # convert seconds to hours, minutes and seconds\n",
    "        end_time=str(datetime.timedelta(seconds=ct[var[0],var[1],var[2]].varValue))\n",
    "        j_record[(var[0],var[1],var[2])]=[start_time,end_time]\n",
    "        index_record.append([var[0],var[1],var[2]])\n",
    "index_record.sort(key=itemgetter(2))\n",
    "        \n",
    "\n",
    "df=[]\n",
    "for i in index_record:\n",
    "    df.append(dict(Task='Machine %s'%(i[2]), Start='2018-11-26 %s'%(str(j_record[(i[0],i[1],i[2])][0])), Finish='2018-11-26 %s'%(str(j_record[(i[0],i[1],i[2])][1])),Resource='Job %s'%(i[0])))\n",
    "    \n",
    "fig = ff.create_gantt(df, index_col='Resource', show_colorbar=True, group_tasks=True, showgrid_x=True, title='Flexible_Job shop Schedule')\n",
    "py.iplot(fig, filename='flexible_job_shop_scheduling', world_readable=True)"
   ]
  },
  {
   "cell_type": "code",
   "execution_count": null,
   "metadata": {},
   "outputs": [],
   "source": [
    "index_record"
   ]
  },
  {
   "cell_type": "code",
   "execution_count": null,
   "metadata": {},
   "outputs": [],
   "source": []
  },
  {
   "cell_type": "code",
   "execution_count": null,
   "metadata": {},
   "outputs": [],
   "source": []
  }
 ],
 "metadata": {
  "kernelspec": {
   "display_name": "Python 3",
   "language": "python",
   "name": "python3"
  },
  "language_info": {
   "codemirror_mode": {
    "name": "ipython",
    "version": 3
   },
   "file_extension": ".py",
   "mimetype": "text/x-python",
   "name": "python",
   "nbconvert_exporter": "python",
   "pygments_lexer": "ipython3",
   "version": "3.7.0"
  }
 },
 "nbformat": 4,
 "nbformat_minor": 2
}
